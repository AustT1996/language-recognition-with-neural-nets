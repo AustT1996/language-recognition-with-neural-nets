{
 "cells": [
  {
   "cell_type": "markdown",
   "metadata": {
    "collapsed": true
   },
   "source": [
    "# Summary\n",
    "Use Tensorboard to build and train a neural net for recognizing \n",
    "# Conclusion\n",
    "The Neural net has mediocre overall performance, likely because I didn't spend that much time optimizing it, and because the problem is somewhat ill-posed, since a string could be a word in multiple different languages. However, for English and Mandarin words it did better than the guessing rate of 33%, which means learning was successful."
   ]
  },
  {
   "cell_type": "code",
   "execution_count": 1,
   "metadata": {
    "collapsed": false
   },
   "outputs": [],
   "source": [
    "# imports\n",
    "import matplotlib.pyplot as plt\n",
    "import numpy as np\n",
    "import tensorflow as tf\n",
    "import string\n",
    "import math\n",
    "import tabulate\n",
    "import os"
   ]
  },
  {
   "cell_type": "markdown",
   "metadata": {},
   "source": [
    "# Make training data"
   ]
  },
  {
   "cell_type": "code",
   "execution_count": 2,
   "metadata": {
    "collapsed": false
   },
   "outputs": [],
   "source": [
    "# Define constants for the training data\n",
    "WORD_LENGTH = 20\n",
    "feature_length = 26*WORD_LENGTH\n",
    "languages = \"english french mandarin\".split()\n",
    "num_of_languages = len(languages)\n",
    "\n",
    "# Constants for saving\n",
    "save_dir = '.\\\\nn_save\\\\'\n",
    "\n",
    "# Function for converting words to vectors\n",
    "# Letters are stored as a list of 26 integers, all 0 except for one, which is a 1\n",
    "# E.g. a is [1, 0, 0... <25 0's>]\n",
    "# E.g. z is [0, 0 ... <25 0's>, 1]\n",
    "# Overall 20 letters are stored sequentially\n",
    "# Punctuation and white space is ignored\n",
    "def vectorize_word(word):\n",
    "    l_final = []\n",
    "    for i in range(WORD_LENGTH):\n",
    "        l_next = [0]*26\n",
    "        try:\n",
    "            l_next[string.ascii_lowercase.index(word[i])] = 1\n",
    "        except:\n",
    "            pass\n",
    "        l_final.extend(l_next)\n",
    "    return l_final\n",
    "\n",
    "f_out = open(r'.\\data\\nn_params.txt', 'w')\n",
    "f_out.write(\"{}\\n\".format(WORD_LENGTH))\n",
    "f_out.write(save_dir+'\\n')\n",
    "f_out.write(\" \".join(languages)+'\\n')\n",
    "f_out.close()"
   ]
  },
  {
   "cell_type": "code",
   "execution_count": 3,
   "metadata": {
    "collapsed": false
   },
   "outputs": [],
   "source": [
    "# Create training data\n",
    "training_data = []\n",
    "training_answers = []\n",
    "for i, lang in enumerate(languages):\n",
    "    \n",
    "    # Read files\n",
    "    f_in = open(\".\\data\\{}.txt\".format(lang))\n",
    "    words = [w.strip() for w in f_in.readlines()]\n",
    "    f_in.close()\n",
    "    \n",
    "    # Vectorize words\n",
    "    vector_words = [vectorize_word(w) for w in words]\n",
    "    \n",
    "    # Vectorize output\n",
    "    l = [0]*num_of_languages\n",
    "    l[i] = 1\n",
    "    vector_language = [l for w in words]\n",
    "    \n",
    "    # Add to training data\n",
    "    training_data.extend(vector_words)\n",
    "    training_answers.extend(vector_language)\n",
    "    \n",
    "# Convert data to numpy array\n",
    "training_data = np.array(training_data)\n",
    "training_answers = np.array(training_answers)"
   ]
  },
  {
   "cell_type": "code",
   "execution_count": 4,
   "metadata": {
    "collapsed": false
   },
   "outputs": [
    {
     "name": "stdout",
     "output_type": "stream",
     "text": [
      "Training data shape: (24786, 520)\n"
     ]
    }
   ],
   "source": [
    "# Summarize training data\n",
    "print(\"Training data shape: {}\".format(training_data.shape))"
   ]
  },
  {
   "cell_type": "markdown",
   "metadata": {},
   "source": [
    "# Make the neural net"
   ]
  },
  {
   "cell_type": "code",
   "execution_count": 5,
   "metadata": {
    "collapsed": false
   },
   "outputs": [],
   "source": [
    "# Input and output variables\n",
    "x = tf.placeholder(tf.float32, [None, feature_length])\n",
    "y_ = tf.placeholder(tf.float32, [None, num_of_languages])\n",
    "\n",
    "# Define the number of neurons in each layer\n",
    "layer_lengths = [feature_length, 40, num_of_languages]\n",
    "\n",
    "# Create each layer\n",
    "neural_net = []\n",
    "last_output = x\n",
    "for i, current_layer_length in enumerate(layer_lengths[1:]):\n",
    "    \n",
    "    # Define the length of the last layer\n",
    "    last_layer_length = layer_lengths[i]\n",
    "    \n",
    "    # Create the variables for this layer\n",
    "    W = tf.Variable(tf.truncated_normal([last_layer_length, current_layer_length],\n",
    "                                        stddev=1 / math.sqrt(last_layer_length)))\n",
    "    b = tf.Variable(tf.constant(0.1, shape=[current_layer_length]))\n",
    "    h = tf.sigmoid(tf.matmul(last_output, W) + b)\n",
    "    \n",
    "    # Store the variables for this layer\n",
    "    neural_net.append((W, b, h))\n",
    "    \n",
    "    # Update the last output\n",
    "    last_output = h\n",
    "\n",
    "# Output layer (softmax)\n",
    "y = tf.nn.softmax(last_output)\n",
    "\n",
    "# Scoring (use cross-entropy storing)\n",
    "cross_entropy = tf.reduce_mean(-tf.reduce_sum(y_ * tf.log(y), axis=1))\n",
    "train_step = tf.train.GradientDescentOptimizer(0.5).minimize(cross_entropy)"
   ]
  },
  {
   "cell_type": "markdown",
   "metadata": {},
   "source": [
    "## Train Neural net and output accuracy"
   ]
  },
  {
   "cell_type": "code",
   "execution_count": 6,
   "metadata": {
    "collapsed": false
   },
   "outputs": [
    {
     "name": "stdout",
     "output_type": "stream",
     "text": [
      "Batch 02000- 0.6160 (15267/24786)\n",
      "Batch 04000- 0.6442 (15966/24786)\n",
      "Batch 06000- 0.6826 (16919/24786)\n",
      "Batch 08000- 0.7060 (17500/24786)\n",
      "Batch 10000- 0.7183 (17803/24786)\n",
      "Batch 12000- 0.7263 (18003/24786)\n",
      "Batch 14000- 0.7313 (18127/24786)\n",
      "Batch 16000- 0.7327 (18160/24786)\n",
      "Batch 18000- 0.7351 (18219/24786)\n",
      "Batch 20000- 0.7357 (18234/24786)\n",
      "Batch 22000- 0.7369 (18264/24786)\n",
      "Batch 24000- 0.7396 (18331/24786)\n",
      "Batch 26000- 0.7401 (18343/24786)\n",
      "Batch 28000- 0.7413 (18373/24786)\n",
      "Batch 30000- 0.7431 (18418/24786)\n",
      "Batch 32000- 0.7447 (18458/24786)\n",
      "Batch 34000- 0.7463 (18498/24786)\n",
      "Batch 36000- 0.7484 (18551/24786)\n",
      "Batch 38000- 0.7498 (18585/24786)\n",
      "Batch 40000- 0.7511 (18617/24786)\n"
     ]
    },
    {
     "data": {
      "image/png": "[encoded data removed]",
      "text/plain": [
       "<matplotlib.figure.Figure at 0x2018223c630>"
      ]
     },
     "metadata": {},
     "output_type": "display_data"
    }
   ],
   "source": [
    "# Initialize variables\n",
    "init = tf.global_variables_initializer()\n",
    "sess = tf.InteractiveSession()\n",
    "sess.run(init)\n",
    "\n",
    "# Initialize accuracy metrics\n",
    "correct_prediction = tf.equal(tf.argmax(y, 1), tf.argmax(y_, 1))\n",
    "accuracy = tf.reduce_mean(tf.cast(correct_prediction, tf.float32))\n",
    "accuracy_tracker = []\n",
    "\n",
    "# Run the training\n",
    "batch_size = 500\n",
    "for i in range(40000):\n",
    "    batch_indices = np.random.randint(training_data.shape[0], size=batch_size)\n",
    "    batch_xs = training_data[batch_indices]\n",
    "    batch_ys = training_answers[batch_indices]\n",
    "    sess.run(train_step, feed_dict={x: batch_xs, y_: batch_ys})\n",
    "    \n",
    "    # Possibly print readout\n",
    "    if (i+1) % 2000 == 0:\n",
    "        corr_pred = sess.run(correct_prediction, feed_dict={x: training_data, y_: training_answers})\n",
    "        correct, total = len(corr_pred[corr_pred]), len(corr_pred)\n",
    "        acc = float(correct)/total\n",
    "        accuracy_tracker.append((i+1, acc))\n",
    "        print(\"Batch {:0>5d}- {:.4f} ({:0>5d}/{})\".format(i+1, acc, correct, total))\n",
    "        \n",
    "# Plot training accuracy improvement\n",
    "plt.plot(*zip(*accuracy_tracker))\n",
    "plt.xlabel(\"Batch number\")\n",
    "plt.ylabel(\"Accuracy\")\n",
    "plt.title(\"Training Accuracy for language recognition neural net\")\n",
    "plt.show()"
   ]
  },
  {
   "cell_type": "code",
   "execution_count": 7,
   "metadata": {
    "collapsed": false
   },
   "outputs": [],
   "source": [
    "# Function for testing words\n",
    "def get_predictions(test_words):\n",
    "    test_words_vectorized = np.array([vectorize_word(w) for w in test_words])\n",
    "\n",
    "    # Get predictions\n",
    "    test_results = sess.run(y, feed_dict={x: test_words_vectorized})\n",
    "    \n",
    "    return test_results\n",
    "\n",
    "# Function that tests words and prints them to make a nice pretty table\n",
    "def predictions_table(test_words, answers=None):\n",
    "    # test_words is a list of strings (the words)\n",
    "    # Answers will tell the net if it is correct\n",
    "    # Should be a list where the number n of element i correspond means that test_words[i] is of language[n]\n",
    "    predictions = get_predictions(test_words)\n",
    "    table = [[w] for w in test_words] # First column of the table is the word\n",
    "    table = [t + [\"{:.1f}\".format(p*100) for p in pred] for t, pred in zip(table, predictions)]  # Next column is the predictions\n",
    "    headers = [\"Word\"] + [l.title() for l in languages]\n",
    "    \n",
    "    # Possibly print wrong answers\n",
    "    if answers is not None:\n",
    "        \n",
    "        # Find the ones it answered correctly\n",
    "        correct = np.array([p[i] == np.max(p) for p, i in zip(predictions, answers)])\n",
    "        \n",
    "        # Add an answers column to the table\n",
    "        for i, c in enumerate(correct):\n",
    "            if c:\n",
    "                table[i] += [\"\"]\n",
    "            else:\n",
    "                table[i] += [\"Wrong!\"]\n",
    "        headers += [\"Correct?\"]\n",
    "        \n",
    "    # Print the table:\n",
    "    print(tabulate.tabulate(table, headers=headers))\n",
    "    \n",
    "    # Possibly print the accuracy\n",
    "    if answers is not None:\n",
    "        print(\"Accuracy: {:.2f}%\".format(100.*len(correct[correct])/len(correct)))"
   ]
  },
  {
   "cell_type": "markdown",
   "metadata": {},
   "source": [
    "# Test the neural net with some words I made up\n",
    "## This isn't the most rigorous source of test data admittedly, but oh well"
   ]
  },
  {
   "cell_type": "code",
   "execution_count": 8,
   "metadata": {
    "collapsed": false
   },
   "outputs": [
    {
     "name": "stdout",
     "output_type": "stream",
     "text": [
      "Word       English    French    Mandarin  Correct?\n",
      "-------  ---------  --------  ----------  ----------\n",
      "hello         57.2      21.6        21.2\n",
      "my            57.5      21.4        21.1\n",
      "dear          50.1      30.7        19.2\n",
      "chap          56.4      21          22.5\n",
      "let's         53.5      26.7        19.7\n",
      "have          57        22          21\n",
      "a             56.3      23          20.7\n",
      "bit           57.3      21.5        21.2\n",
      "of            57.4      21.5        21.1\n",
      "coffee        21.4      57.5        21.2  Wrong!\n",
      "oh            56.6      20.9        22.5\n",
      "my            57.5      21.4        21.1\n",
      "heavens       40        43.3        16.7  Wrong!\n",
      "look          57.6      21.2        21.2\n",
      "at            55.5      24          20.4\n",
      "what          56        20.6        23.3\n",
      "this          53.5      21.8        24.7\n",
      "neural        26.8      53.3        20    Wrong!\n",
      "net           55.1      24.6        20.3\n",
      "can           49.3      25.3        25.4\n",
      "do            56.2      22.8        21\n",
      "it            56.6      22.5        20.8\n",
      "looks         57.6      21.2        21.2\n",
      "like          57        21.1        21.8\n",
      "english       57.2      21.8        21\n",
      "words         57.6      21.2        21.2\n",
      "are           50.8      30.5        18.7\n",
      "often         47.2      35.3        17.5\n",
      "quite         19.2      33.2        47.6  Wrong!\n",
      "similar       55.1      24.5        20.4\n",
      "to            56.9      22          21.1\n",
      "french        56.8      22.2        20.9\n",
      "ones          56.2      23.1        20.7\n",
      "Accuracy: 87.88%\n"
     ]
    }
   ],
   "source": [
    "# English words\n",
    "english_words = \"hello my dear chap let's have a bit of coffee\".split()\n",
    "english_words += \"oh my heavens look at what this neural net can do\".split()\n",
    "english_words += \"it looks like english words are often quite similar to french ones\".split()\n",
    "predictions_table(english_words, answers=[0]*len(english_words))"
   ]
  },
  {
   "cell_type": "markdown",
   "metadata": {},
   "source": [
    "### It is pretty good at English.\n",
    "Most words were right, with most of the confusion mainly being with French (which has a lot of similar words anyways).  \n",
    "Oddly enough it thought the word \"quite\" was Mandarin."
   ]
  },
  {
   "cell_type": "code",
   "execution_count": 9,
   "metadata": {
    "collapsed": false,
    "scrolled": false
   },
   "outputs": [
    {
     "name": "stdout",
     "output_type": "stream",
     "text": [
      "Word         English    French    Mandarin  Correct?\n",
      "---------  ---------  --------  ----------  ----------\n",
      "bonjour         20.8      23.7        55.5  Wrong!\n",
      "mon             55.7      22.9        21.4  Wrong!\n",
      "ami             44.2      39.2        16.6  Wrong!\n",
      "j'adore         41.3      42.8        16\n",
      "le              57.1      21.6        21.2  Wrong!\n",
      "francais.       43.5      40.4        16    Wrong!\n",
      "C'est           52.3      28.4        19.2  Wrong!\n",
      "une             57.6      21.2        21.2  Wrong!\n",
      "belle           44.3      39.3        16.4  Wrong!\n",
      "langue          21.2      21.3        57.6  Wrong!\n",
      "je              53.3      23.6        23.1  Wrong!\n",
      "mange           21.2      21.4        57.3  Wrong!\n",
      "une             57.6      21.2        21.2  Wrong!\n",
      "croissant       42.1      42.3        15.6\n",
      "avec            42.8      41.4        15.8  Wrong!\n",
      "une             57.6      21.2        21.2  Wrong!\n",
      "baguette        24.6      55.1        20.3\n",
      "et              52.6      28          19.4  Wrong!\n",
      "du              40.7      21.9        37.4  Wrong!\n",
      "brie            44.5      38.7        16.8  Wrong!\n",
      "ca              56.1      22.7        21.2  Wrong!\n",
      "c'est           45.2      38.2        16.6  Wrong!\n",
      "comment         42.2      42.3        15.6\n",
      "on              57.6      21.3        21.2  Wrong!\n",
      "fait            39.5      38.1        22.5  Wrong!\n",
      "des             55.5      24.1        20.4  Wrong!\n",
      "choses          51.9      28.8        19.4  Wrong!\n",
      "en              56.1      23.2        20.7  Wrong!\n",
      "france!         42        42.4        15.6\n",
      "Accuracy: 17.24%\n"
     ]
    }
   ],
   "source": [
    "# French words\n",
    "# Note the lack of accents (the vectorizer doesn't handle accents)\n",
    "# Note my poor French also\n",
    "french_words = \"bonjour mon ami j'adore le francais. C'est une belle langue\".split()\n",
    "french_words += \"je mange une croissant avec une baguette et du brie\".split()\n",
    "french_words += \"ca c'est comment on fait des choses en france!\".split()\n",
    "predictions_table(french_words, answers=[1]*len(french_words))"
   ]
  },
  {
   "cell_type": "markdown",
   "metadata": {},
   "source": [
    "### It really didn't do very well with French at all...\n",
    "It seemed to mix it up with English a lot. I am not sure why the confusion is so uneven..."
   ]
  },
  {
   "cell_type": "code",
   "execution_count": 10,
   "metadata": {
    "collapsed": false
   },
   "outputs": [
    {
     "name": "stdout",
     "output_type": "stream",
     "text": [
      "Word          English    French    Mandarin  Correct?\n",
      "----------  ---------  --------  ----------  ----------\n",
      "xuexi            21.2      21.2        57.6\n",
      "zhongwen         21.2      21.2        57.6\n",
      "zhende           21.3      21.2        57.5\n",
      "hen              47.5      20.7        31.8  Wrong!\n",
      "nan              37.5      23.4        39.1\n",
      "wo               57.6      21.2        21.3  Wrong!\n",
      "hen              47.5      20.7        31.8  Wrong!\n",
      "xihuan           21.2      21.2        57.6\n",
      "pinyin           21.5      21.1        57.4\n",
      "yinwei           21.2      21.2        57.6\n",
      "bangzhu          21.2      21.2        57.6\n",
      "wo               57.6      21.2        21.3  Wrong!\n",
      "kanshu           21.2      21.2        57.6\n",
      "de               55.4      23.4        21.3  Wrong!\n",
      "bijiao           21.2      21.2        57.6\n",
      "rongyi           28.6      19.4        52.1\n",
      "sishisi          54.1      23.4        22.5  Wrong!\n",
      "jiu              21.2      21.7        57.1\n",
      "shi              31.9      19.9        48.3\n",
      "tebie            21.9      55.4        22.7  Wrong!\n",
      "nan              37.5      23.4        39.1\n",
      "shuochulai       21.3      21.2        57.6\n",
      "qilai,           21.2      21.2        57.6\n",
      "bu               46.6      20.1        33.3  Wrong!\n",
      "yuan             21.2      21.2        57.6\n",
      "zuo              21.3      21.2        57.5\n",
      "nuli             31.7      22.7        45.5\n",
      "de               55.4      23.4        21.3  Wrong!\n",
      "renmen!          27        48.4        24.5  Wrong!\n",
      "Accuracy: 65.52%\n"
     ]
    }
   ],
   "source": [
    "# Mandarin Words\n",
    "# Note I am typing in pinyin with no tones\n",
    "mandarin_words = \"xuexi zhongwen zhende hen nan\".split()\n",
    "mandarin_words += \"wo hen xihuan pinyin yinwei bangzhu wo kanshu de bijiao rongyi\".split()\n",
    "mandarin_words += \"sishisi jiu shi tebie nan shuochulai\".split()\n",
    "mandarin_words += \"qilai, bu yuan zuo nuli de renmen!\".split()  # Gotta please the censors ;)\n",
    "predictions_table(mandarin_words, answers=[2]*len(mandarin_words))"
   ]
  },
  {
   "cell_type": "markdown",
   "metadata": {},
   "source": [
    "### It did ok with Mandarin\n",
    "Most of the confusion seems to be with short words (e.g. 'hen', which is a word in english too).  \n",
    "I found it weird that \"tebie\" and \"renmen\" were French..."
   ]
  },
  {
   "cell_type": "code",
   "execution_count": 11,
   "metadata": {
    "collapsed": false
   },
   "outputs": [],
   "source": [
    "# Save neural net\n",
    "# saver = tf.train.Saver()\n",
    "# if not os.path.exists(save_dir):\n",
    "#     os.makedirs(save_dir)\n",
    "# save_path = saver.save(sess, save_dir)\n",
    "# print(save_path)"
   ]
  },
  {
   "cell_type": "code",
   "execution_count": 12,
   "metadata": {
    "collapsed": true
   },
   "outputs": [],
   "source": [
    "# Close the session\n",
    "# sess.close()"
   ]
  }
 ],
 "metadata": {
  "anaconda-cloud": {},
  "kernelspec": {
   "display_name": "Python [conda env:py35]",
   "language": "python",
   "name": "conda-env-py35-py"
  },
  "language_info": {
   "codemirror_mode": {
    "name": "ipython",
    "version": 3
   },
   "file_extension": ".py",
   "mimetype": "text/x-python",
   "name": "python",
   "nbconvert_exporter": "python",
   "pygments_lexer": "ipython3",
   "version": "3.5.2"
  }
 },
 "nbformat": 4,
 "nbformat_minor": 2
}
