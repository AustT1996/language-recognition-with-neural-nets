{
 "cells": [
  {
   "cell_type": "markdown",
   "metadata": {},
   "source": [
    "# Mine Common French Words from Wiktionary\n",
    "Sites:"
   ]
  },
  {
   "cell_type": "code",
   "execution_count": 1,
   "metadata": {
    "collapsed": true
   },
   "outputs": [],
   "source": [
    "url_list = [\"https://en.wiktionary.org/wiki/Wiktionary:French_frequency_lists/1-2000\",\n",
    "            \"https://en.wiktionary.org/wiki/Wiktionary:French_frequency_lists/2001-4000\",\n",
    "            \"https://en.wiktionary.org/wiki/Wiktionary:French_frequency_lists/4001-6000\",\n",
    "            \"https://en.wiktionary.org/wiki/Wiktionary:French_frequency_lists/6001-8000\",\n",
    "            \"https://en.wiktionary.org/wiki/Wiktionary:French_frequency_lists/8001-10000\"\n",
    "           ]"
   ]
  },
  {
   "cell_type": "code",
   "execution_count": 2,
   "metadata": {
    "collapsed": false
   },
   "outputs": [],
   "source": [
    "from urllib.request import urlopen\n",
    "from lxml import html\n",
    "import unicodedata"
   ]
  },
  {
   "cell_type": "code",
   "execution_count": 3,
   "metadata": {
    "collapsed": true
   },
   "outputs": [],
   "source": [
    "french_words = list()\n",
    "french_words_set = set()"
   ]
  },
  {
   "cell_type": "code",
   "execution_count": 4,
   "metadata": {
    "collapsed": false
   },
   "outputs": [],
   "source": [
    "# Function to strip accents\n",
    "def strip_accents(s):\n",
    "    return ''.join(c for c in unicodedata.normalize('NFD', s)\n",
    "              if unicodedata.category(c) != 'Mn')\n",
    "\n",
    "# Function to process a word\n",
    "def process_french_word(word):\n",
    "    return strip_accents(word.lower())"
   ]
  },
  {
   "cell_type": "code",
   "execution_count": 5,
   "metadata": {
    "collapsed": false
   },
   "outputs": [],
   "source": [
    "for url in url_list:\n",
    "    page_html = urlopen(url).read()\n",
    "    tree = html.fromstring(page_html)\n",
    "    word_list = tree.xpath('.//div/table//tr//li/span/a')\n",
    "    for w in word_list:\n",
    "        word = w.text\n",
    "        proc_word = process_french_word(word)\n",
    "        if proc_word not in french_words_set:\n",
    "            french_words_set.add(proc_word)\n",
    "            french_words.append(proc_word)"
   ]
  },
  {
   "cell_type": "code",
   "execution_count": 6,
   "metadata": {
    "collapsed": true
   },
   "outputs": [],
   "source": [
    "# Write words to a text file\n",
    "f_out = open(\"french.txt\", 'w')\n",
    "for word in french_words:\n",
    "    f_out.write(word+\"\\n\")\n",
    "f_out.close()"
   ]
  },
  {
   "cell_type": "code",
   "execution_count": null,
   "metadata": {
    "collapsed": true
   },
   "outputs": [],
   "source": []
  }
 ],
 "metadata": {
  "kernelspec": {
   "display_name": "Python [conda env:py35]",
   "language": "python",
   "name": "conda-env-py35-py"
  },
  "language_info": {
   "codemirror_mode": {
    "name": "ipython",
    "version": 3
   },
   "file_extension": ".py",
   "mimetype": "text/x-python",
   "name": "python",
   "nbconvert_exporter": "python",
   "pygments_lexer": "ipython3",
   "version": "3.5.2"
  }
 },
 "nbformat": 4,
 "nbformat_minor": 2
}
