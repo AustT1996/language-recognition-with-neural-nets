{
 "cells": [
  {
   "cell_type": "markdown",
   "metadata": {},
   "source": [
    "# Mine Common French Words from Wiktionary\n",
    "Sites:"
   ]
  },
  {
   "cell_type": "code",
   "execution_count": 10,
   "metadata": {
    "collapsed": false
   },
   "outputs": [],
   "source": [
    "vocab_range = range(1000, 10001, 1000)\n",
    "url_list = [\"https://en.wiktionary.org/wiki/Appendix:Mandarin_Frequency_lists/{}-{}\".format(x-1000+1, x) for x in vocab_range]"
   ]
  },
  {
   "cell_type": "code",
   "execution_count": 2,
   "metadata": {
    "collapsed": false
   },
   "outputs": [],
   "source": [
    "from urllib.request import urlopen\n",
    "from lxml import html\n",
    "import unicodedata"
   ]
  },
  {
   "cell_type": "code",
   "execution_count": 3,
   "metadata": {
    "collapsed": true
   },
   "outputs": [],
   "source": [
    "mandarin_words = list()\n",
    "mandarin_words_set = set()"
   ]
  },
  {
   "cell_type": "code",
   "execution_count": 4,
   "metadata": {
    "collapsed": false
   },
   "outputs": [],
   "source": [
    "# Function to strip accents\n",
    "def strip_accents(s):\n",
    "    return ''.join(c for c in unicodedata.normalize('NFD', s)\n",
    "              if unicodedata.category(c) != 'Mn')\n",
    "\n",
    "# Function to process a word\n",
    "def process_mandarin_word(word):\n",
    "    return strip_accents(word.lower())"
   ]
  },
  {
   "cell_type": "code",
   "execution_count": 11,
   "metadata": {
    "collapsed": false
   },
   "outputs": [],
   "source": [
    "for url in url_list:\n",
    "    page_html = urlopen(url).read()\n",
    "    tree = html.fromstring(page_html)\n",
    "    word_list = tree.xpath('.//div//ol/li/a')\n",
    "    for w in word_list:\n",
    "        word = w.text\n",
    "        proc_word = process_mandarin_word(word)\n",
    "        if proc_word not in mandarin_words_set:\n",
    "            mandarin_words_set.add(proc_word)\n",
    "            mandarin_words.append(proc_word)"
   ]
  },
  {
   "cell_type": "code",
   "execution_count": 12,
   "metadata": {
    "collapsed": true
   },
   "outputs": [],
   "source": [
    "# Write words to a text file\n",
    "f_out = open(\"mandarin.txt\", 'w')\n",
    "for word in mandarin_words:\n",
    "    f_out.write(word+\"\\n\")\n",
    "f_out.close()"
   ]
  },
  {
   "cell_type": "code",
   "execution_count": null,
   "metadata": {
    "collapsed": true
   },
   "outputs": [],
   "source": []
  }
 ],
 "metadata": {
  "anaconda-cloud": {},
  "kernelspec": {
   "display_name": "Python [conda env:py35]",
   "language": "python",
   "name": "conda-env-py35-py"
  },
  "language_info": {
   "codemirror_mode": {
    "name": "ipython",
    "version": 3
   },
   "file_extension": ".py",
   "mimetype": "text/x-python",
   "name": "python",
   "nbconvert_exporter": "python",
   "pygments_lexer": "ipython3",
   "version": "3.5.2"
  }
 },
 "nbformat": 4,
 "nbformat_minor": 2
}
